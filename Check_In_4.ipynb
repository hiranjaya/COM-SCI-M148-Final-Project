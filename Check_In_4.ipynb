{
 "cells": [
  {
   "cell_type": "markdown",
   "metadata": {},
   "source": [
    "**Project Check-in 3**"
   ]
  },
  {
   "cell_type": "code",
   "execution_count": 1,
   "metadata": {
    "colab": {
     "base_uri": "https://localhost:8080/"
    },
    "id": "iNfPgpj0OB4I",
    "outputId": "4eb73be2-c9f4-4933-9245-93c16720ba79"
   },
   "outputs": [
    {
     "name": "stdout",
     "output_type": "stream",
     "text": [
      "Requirement already satisfied: pip in /opt/anaconda3/lib/python3.11/site-packages (24.3.1)\n",
      "Note: you may need to restart the kernel to use updated packages.\n",
      "Requirement already satisfied: scikit-lego in /opt/anaconda3/lib/python3.11/site-packages (0.9.1)\n",
      "Requirement already satisfied: narwhals>=1.0.0 in /opt/anaconda3/lib/python3.11/site-packages (from scikit-lego) (1.9.4)\n",
      "Requirement already satisfied: pandas>=1.1.5 in /opt/anaconda3/lib/python3.11/site-packages (from scikit-lego) (2.1.4)\n",
      "Requirement already satisfied: scikit-learn>=1.0 in /opt/anaconda3/lib/python3.11/site-packages (from scikit-lego) (1.2.2)\n",
      "Requirement already satisfied: numpy<2,>=1.23.2 in /opt/anaconda3/lib/python3.11/site-packages (from pandas>=1.1.5->scikit-lego) (1.26.4)\n",
      "Requirement already satisfied: python-dateutil>=2.8.2 in /opt/anaconda3/lib/python3.11/site-packages (from pandas>=1.1.5->scikit-lego) (2.8.2)\n",
      "Requirement already satisfied: pytz>=2020.1 in /opt/anaconda3/lib/python3.11/site-packages (from pandas>=1.1.5->scikit-lego) (2023.3.post1)\n",
      "Requirement already satisfied: tzdata>=2022.1 in /opt/anaconda3/lib/python3.11/site-packages (from pandas>=1.1.5->scikit-lego) (2023.3)\n",
      "Requirement already satisfied: scipy>=1.3.2 in /opt/anaconda3/lib/python3.11/site-packages (from scikit-learn>=1.0->scikit-lego) (1.11.4)\n",
      "Requirement already satisfied: joblib>=1.1.1 in /opt/anaconda3/lib/python3.11/site-packages (from scikit-learn>=1.0->scikit-lego) (1.2.0)\n",
      "Requirement already satisfied: threadpoolctl>=2.0.0 in /opt/anaconda3/lib/python3.11/site-packages (from scikit-learn>=1.0->scikit-lego) (2.2.0)\n",
      "Requirement already satisfied: six>=1.5 in /opt/anaconda3/lib/python3.11/site-packages (from python-dateutil>=2.8.2->pandas>=1.1.5->scikit-lego) (1.16.0)\n",
      "Note: you may need to restart the kernel to use updated packages.\n",
      "Requirement already satisfied: seaborn in /opt/anaconda3/lib/python3.11/site-packages (0.13.2)\n",
      "Requirement already satisfied: numpy!=1.24.0,>=1.20 in /opt/anaconda3/lib/python3.11/site-packages (from seaborn) (1.26.4)\n",
      "Requirement already satisfied: pandas>=1.2 in /opt/anaconda3/lib/python3.11/site-packages (from seaborn) (2.1.4)\n",
      "Requirement already satisfied: matplotlib!=3.6.1,>=3.4 in /opt/anaconda3/lib/python3.11/site-packages (from seaborn) (3.8.0)\n",
      "Requirement already satisfied: contourpy>=1.0.1 in /opt/anaconda3/lib/python3.11/site-packages (from matplotlib!=3.6.1,>=3.4->seaborn) (1.2.0)\n",
      "Requirement already satisfied: cycler>=0.10 in /opt/anaconda3/lib/python3.11/site-packages (from matplotlib!=3.6.1,>=3.4->seaborn) (0.11.0)\n",
      "Requirement already satisfied: fonttools>=4.22.0 in /opt/anaconda3/lib/python3.11/site-packages (from matplotlib!=3.6.1,>=3.4->seaborn) (4.25.0)\n",
      "Requirement already satisfied: kiwisolver>=1.0.1 in /opt/anaconda3/lib/python3.11/site-packages (from matplotlib!=3.6.1,>=3.4->seaborn) (1.4.4)\n",
      "Requirement already satisfied: packaging>=20.0 in /opt/anaconda3/lib/python3.11/site-packages (from matplotlib!=3.6.1,>=3.4->seaborn) (23.1)\n",
      "Requirement already satisfied: pillow>=6.2.0 in /opt/anaconda3/lib/python3.11/site-packages (from matplotlib!=3.6.1,>=3.4->seaborn) (10.2.0)\n",
      "Requirement already satisfied: pyparsing>=2.3.1 in /opt/anaconda3/lib/python3.11/site-packages (from matplotlib!=3.6.1,>=3.4->seaborn) (3.0.9)\n",
      "Requirement already satisfied: python-dateutil>=2.7 in /opt/anaconda3/lib/python3.11/site-packages (from matplotlib!=3.6.1,>=3.4->seaborn) (2.8.2)\n",
      "Requirement already satisfied: pytz>=2020.1 in /opt/anaconda3/lib/python3.11/site-packages (from pandas>=1.2->seaborn) (2023.3.post1)\n",
      "Requirement already satisfied: tzdata>=2022.1 in /opt/anaconda3/lib/python3.11/site-packages (from pandas>=1.2->seaborn) (2023.3)\n",
      "Requirement already satisfied: six>=1.5 in /opt/anaconda3/lib/python3.11/site-packages (from python-dateutil>=2.7->matplotlib!=3.6.1,>=3.4->seaborn) (1.16.0)\n",
      "Note: you may need to restart the kernel to use updated packages.\n",
      "Requirement already satisfied: nbstripout in /opt/anaconda3/lib/python3.11/site-packages (0.7.1)\n",
      "Requirement already satisfied: nbformat in /opt/anaconda3/lib/python3.11/site-packages (from nbstripout) (5.9.2)\n",
      "Requirement already satisfied: fastjsonschema in /opt/anaconda3/lib/python3.11/site-packages (from nbformat->nbstripout) (2.16.2)\n",
      "Requirement already satisfied: jsonschema>=2.6 in /opt/anaconda3/lib/python3.11/site-packages (from nbformat->nbstripout) (4.19.2)\n",
      "Requirement already satisfied: jupyter-core in /opt/anaconda3/lib/python3.11/site-packages (from nbformat->nbstripout) (5.5.0)\n",
      "Requirement already satisfied: traitlets>=5.1 in /opt/anaconda3/lib/python3.11/site-packages (from nbformat->nbstripout) (5.7.1)\n",
      "Requirement already satisfied: attrs>=22.2.0 in /opt/anaconda3/lib/python3.11/site-packages (from jsonschema>=2.6->nbformat->nbstripout) (23.1.0)\n",
      "Requirement already satisfied: jsonschema-specifications>=2023.03.6 in /opt/anaconda3/lib/python3.11/site-packages (from jsonschema>=2.6->nbformat->nbstripout) (2023.7.1)\n",
      "Requirement already satisfied: referencing>=0.28.4 in /opt/anaconda3/lib/python3.11/site-packages (from jsonschema>=2.6->nbformat->nbstripout) (0.30.2)\n",
      "Requirement already satisfied: rpds-py>=0.7.1 in /opt/anaconda3/lib/python3.11/site-packages (from jsonschema>=2.6->nbformat->nbstripout) (0.10.6)\n",
      "Requirement already satisfied: platformdirs>=2.5 in /opt/anaconda3/lib/python3.11/site-packages (from jupyter-core->nbformat->nbstripout) (3.10.0)\n",
      "Note: you may need to restart the kernel to use updated packages.\n",
      "fatal: --local can only be used inside a git repository\n",
      "Installation failed: not a git repository!\n"
     ]
    }
   ],
   "source": [
    "%pip install --upgrade pip\n",
    "%pip install scikit-lego\n",
    "%pip install seaborn\n",
    "%pip install nbstripout\n",
    "!nbstripout --install"
   ]
  },
  {
   "cell_type": "code",
   "execution_count": 25,
   "metadata": {
    "id": "MkCVC2020FB4"
   },
   "outputs": [],
   "source": [
    "import numpy as np\n",
    "import matplotlib.pyplot as plt\n",
    "import pandas as pd\n",
    "import seaborn as sns\n",
    "from sklearn.preprocessing import LabelEncoder, StandardScaler, PolynomialFeatures\n",
    "from sklearn.metrics import roc_curve, auc, roc_auc_score, accuracy_score, precision_recall_curve\n",
    "from sklearn.linear_model import LinearRegression, Ridge\n",
    "from sklearn.model_selection import train_test_split, StratifiedKFold, cross_val_score\n",
    "from sklearn.metrics import mean_squared_error\n",
    "import pandas as pd\n",
    "from sklearn.model_selection import train_test_split\n",
    "from sklearn.linear_model import LogisticRegression\n",
    "from sklearn.metrics import confusion_matrix, accuracy_score\n",
    "from sklearn.neighbors import KNeighborsClassifier\n",
    "from sklearn.preprocessing import OneHotEncoder\n",
    "\n",
    "df = pd.read_csv(\"./dataset.csv\")"
   ]
  },
  {
   "cell_type": "markdown",
   "metadata": {},
   "source": [
    "1. In Check-in 3, we chose explicit as our binary response variable.\n",
    "\n",
    "2. We chose \"Speechiness\" as our predictor because we thought it might indicate whether or not a track was rap, which generally has more explicit lyrics.\n",
    "\n",
    "3. See below."
   ]
  },
  {
   "cell_type": "code",
   "execution_count": 27,
   "metadata": {
    "colab": {
     "base_uri": "https://localhost:8080/"
    },
    "id": "zVocdikoAasR",
    "outputId": "937ac093-c53f-4f24-9e89-4069f6990e21"
   },
   "outputs": [
    {
     "name": "stdout",
     "output_type": "stream",
     "text": [
      "Confusion Matrix:\n",
      " [[61651   869]\n",
      " [ 3231  2649]]\n",
      "Prediction Accuracy: 0.9400584795321637\n",
      "Prediction Error: 0.059941520467836296\n",
      "True Positive Rate (TPR): 0.45051020408163267\n",
      "True Negative Rate (TNR): 0.9861004478566858\n"
     ]
    }
   ],
   "source": [
    "# Step 1: Clean Data\n",
    "# Remove duplicates\n",
    "df_cleaned = df.drop_duplicates()\n",
    "\n",
    "# Remove columns with every row unique. Also dropping artist and album because it would be too much one-hot encoding\n",
    "df_cleaned.drop(columns=['track_id', 'track_name', 'artists','album_name'], inplace=True)\n",
    "\n",
    "# We will now One-Hot Encode the categorical variables\n",
    "\n",
    "#The columns with object datatype will be categorical\n",
    "cat_columns = df_cleaned.select_dtypes(include=['object']).columns.tolist()\n",
    "\n",
    "# Initialize and use OneHotEncoder\n",
    "encoder = OneHotEncoder(sparse_output=False)\n",
    "one_hot_encoded = encoder.fit_transform(df_cleaned[cat_columns])\n",
    "\n",
    "# We now replace the original df with one that is one hot encoded.\n",
    "# We will use get_feature_names_out() to get the column names for the encoded data\n",
    "one_hot_df = pd.DataFrame(one_hot_encoded, columns=encoder.get_feature_names_out(cat_columns))\n",
    "\n",
    "# We now add the OneHotEncoded columns and drop the old ones\n",
    "df_encoded = pd.concat([df_cleaned, one_hot_df], axis=1)\n",
    "df_encoded = df_encoded.drop(cat_columns, axis=1)\n",
    "\n",
    "# Step 2: Define Predictor (everything but response) and Response\n",
    "y = df_encoded['explicit']     # binary response\n",
    "X = df_encoded\n",
    "X.drop(columns=['explicit'], inplace = True) #predictor\n",
    "\n",
    "# Split data into training and testing sets (optional, here we'll use all data for training)\n",
    "# 60% train, 20% test, 20% validation\n",
    "X_train, X_not_train, y_train, y_not_train = train_test_split(X, y, train_size=0.6, random_state=42)\n",
    "X_test, X_val, y_test, y_val = train_test_split(X, y, train_size=0.5, random_state=42)\n",
    "\n",
    "# Step 3: Train KNN Model\n",
    "knn_model = KNeighborsClassifier(n_neighbors=3)\n",
    "knn_model.fit(X_train, y_train)\n",
    "\n",
    "# Step 4: Predict and Evaluate\n",
    "y_pred = knn_model.predict(X_train)\n",
    "\n",
    "# Calculate confusion matrix\n",
    "conf_matrix = confusion_matrix(y_train, y_pred)\n",
    "\n",
    "# Calculate evaluation metrics\n",
    "accuracy = accuracy_score(y_train, y_pred)\n",
    "prediction_error = 1 - accuracy\n",
    "TPR = conf_matrix[1, 1] / (conf_matrix[1, 0] + conf_matrix[1, 1])  # True Positive Rate\n",
    "TNR = conf_matrix[0, 0] / (conf_matrix[0, 0] + conf_matrix[0, 1])  # True Negative Rate\n",
    "\n",
    "# Print results\n",
    "print(\"Confusion Matrix:\\n\", conf_matrix)\n",
    "print(\"Prediction Accuracy:\", accuracy)\n",
    "print(\"Prediction Error:\", prediction_error)\n",
    "print(\"True Positive Rate (TPR):\", TPR)\n",
    "print(\"True Negative Rate (TNR):\", TNR)"
   ]
  },
  {
   "cell_type": "markdown",
   "metadata": {},
   "source": [
    "#4 See below"
   ]
  },
  {
   "cell_type": "code",
   "execution_count": 29,
   "metadata": {
    "colab": {
     "base_uri": "https://localhost:8080/",
     "height": 942
    },
    "id": "y2OBZ8o0AQ5O",
    "outputId": "d7869c04-90ce-40f9-8633-7de2f8785a1a"
   },
   "outputs": [
    {
     "name": "stdout",
     "output_type": "stream",
     "text": [
      "[0.         0.         0.66666667 ... 0.         0.         0.        ]\n"
     ]
    },
    {
     "data": {
      "image/png": "[encoded data removed]",
      "text/plain": [
       "<Figure size 640x480 with 1 Axes>"
      ]
     },
     "metadata": {},
     "output_type": "display_data"
    },
    {
     "name": "stdout",
     "output_type": "stream",
     "text": [
      "5-Fold Cross-Validation AUC scores: [0.68888548 0.70989064 0.69646417 0.69571819 0.69000559]\n",
      "Mean AUC across folds: 0.6961928140246731\n",
      "5-Fold Cross-Validation Accuracy scores: [0.90798246 0.90991228 0.90587719 0.90438596 0.90385965]\n",
      "Mean Accuracy across folds: 0.9064035087719299\n"
     ]
    }
   ],
   "source": [
    "# Perform 5-fold cross-validation on the validation set for AUC and accuracy\n",
    "cv = StratifiedKFold(n_splits=5)\n",
    "auc_scores = cross_val_score(knn_model, X_val, y_val, cv=cv, scoring='roc_auc')\n",
    "accuracy_scores = cross_val_score(knn_model, X_val, y_val, cv=cv, scoring='accuracy')\n",
    "\n",
    "# Train model on training data for ROC curve\n",
    "knn_model.fit(X_train, y_train)\n",
    "\n",
    "# Predict probabilities on the validation set\n",
    "y_val_probs = knn_model.predict_proba(X_val)[:, 1]\n",
    "print(y_val_probs)\n",
    "\n",
    "# Calculate ROC curve and AUC on the validation set\n",
    "fpr, tpr, thresholds = roc_curve(y_val, y_val_probs)\n",
    "roc_auc = roc_auc_score(y_val, y_val_probs)\n",
    "\n",
    "# Plot ROC curve\n",
    "plt.figure()\n",
    "plt.plot(fpr, tpr, color='blue', label=f'ROC curve (AUC = {roc_auc:.2f})')\n",
    "plt.plot([0, 1], [0, 1], color='gray', linestyle='--')  # Diagonal line for random guessing\n",
    "plt.xlabel('False Positive Rate')\n",
    "plt.ylabel('True Positive Rate')\n",
    "plt.title('ROC Curve')\n",
    "plt.legend(loc=\"lower right\")\n",
    "plt.show()\n",
    "\n",
    "# Print cross-validated AUC and accuracy for each fold\n",
    "print(\"5-Fold Cross-Validation AUC scores:\", auc_scores)\n",
    "print(\"Mean AUC across folds:\", np.mean(auc_scores))\n",
    "print(\"5-Fold Cross-Validation Accuracy scores:\", accuracy_scores)\n",
    "print(\"Mean Accuracy across folds:\", np.mean(accuracy_scores))\n"
   ]
  },
  {
   "cell_type": "markdown",
   "metadata": {},
   "source": []
  },
  {
   "cell_type": "code",
   "execution_count": 30,
   "metadata": {},
   "outputs": [
    {
     "name": "stdout",
     "output_type": "stream",
     "text": [
      "Optimal Threshold (F1): 0.3333333333333333\n",
      "F1 Score at Optimal Threshold: 0.6150627615062761\n",
      "Accuracy at Optimal Threshold: 0.8923976608187134\n"
     ]
    }
   ],
   "source": [
    "# Precision-recall curve gives thresholds, precision, and recall\n",
    "y_prob = knn_model.predict_proba(X_train)[:, 1]\n",
    "precisions, recalls, thresholds_pr = precision_recall_curve(y_train, y_prob)\n",
    "\n",
    "# Calculate F1 score for each threshold\n",
    "f1_scores = 2 * (precisions * recalls) / (precisions + recalls)\n",
    "\n",
    "# Find the threshold that maximizes the F1 score\n",
    "optimal_idx = np.argmax(f1_scores)\n",
    "optimal_threshold = thresholds_pr[optimal_idx]\n",
    "\n",
    "# Step 4: Use optimal threshold for predictions\n",
    "y_pred_optimal = (y_prob >= optimal_threshold).astype(int)\n",
    "\n",
    "# Print the results\n",
    "print(\"Optimal Threshold (F1):\", optimal_threshold)\n",
    "print(\"F1 Score at Optimal Threshold:\", f1_scores[optimal_idx])\n",
    "print(\"Accuracy at Optimal Threshold:\", accuracy_score(y_train, y_pred_optimal))"
   ]
  },
  {
   "cell_type": "markdown",
   "metadata": {},
   "source": []
  }
 ],
 "metadata": {
  "colab": {
   "provenance": []
  },
  "kernelspec": {
   "display_name": "Python 3 (ipykernel)",
   "language": "python",
   "name": "python3"
  },
  "language_info": {
   "codemirror_mode": {
    "name": "ipython",
    "version": 3
   },
   "file_extension": ".py",
   "mimetype": "text/x-python",
   "name": "python",
   "nbconvert_exporter": "python",
   "pygments_lexer": "ipython3",
   "version": "3.11.7"
  }
 },
 "nbformat": 4,
 "nbformat_minor": 4
}
