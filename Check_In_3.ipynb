{
  "cells": [
    {
      "cell_type": "markdown",
      "metadata": {},
      "source": [
        "**Project Check-in 3**"
      ]
    },
    {
      "cell_type": "code",
      "execution_count": 7,
      "metadata": {
        "colab": {
          "base_uri": "https://localhost:8080/"
        },
        "id": "iNfPgpj0OB4I",
        "outputId": "4eb73be2-c9f4-4933-9245-93c16720ba79"
      },
      "outputs": [
        {
          "name": "stdout",
          "output_type": "stream",
          "text": [
            "Requirement already satisfied: scikit-lego in c:\\users\\isaac\\appdata\\local\\programs\\python\\python311\\lib\\site-packages (0.9.1)\n",
            "Requirement already satisfied: narwhals>=1.0.0 in c:\\users\\isaac\\appdata\\local\\programs\\python\\python311\\lib\\site-packages (from scikit-lego) (1.9.3)\n",
            "Requirement already satisfied: pandas>=1.1.5 in c:\\users\\isaac\\appdata\\local\\programs\\python\\python311\\lib\\site-packages (from scikit-lego) (2.1.2)\n",
            "Requirement already satisfied: scikit-learn>=1.0 in c:\\users\\isaac\\appdata\\local\\programs\\python\\python311\\lib\\site-packages (from scikit-lego) (1.3.2)\n",
            "Requirement already satisfied: numpy<2,>=1.23.2 in c:\\users\\isaac\\appdata\\local\\programs\\python\\python311\\lib\\site-packages (from pandas>=1.1.5->scikit-lego) (1.26.1)\n",
            "Requirement already satisfied: python-dateutil>=2.8.2 in c:\\users\\isaac\\appdata\\roaming\\python\\python311\\site-packages (from pandas>=1.1.5->scikit-lego) (2.8.2)\n",
            "Requirement already satisfied: pytz>=2020.1 in c:\\users\\isaac\\appdata\\local\\programs\\python\\python311\\lib\\site-packages (from pandas>=1.1.5->scikit-lego) (2023.3.post1)\n",
            "Requirement already satisfied: tzdata>=2022.1 in c:\\users\\isaac\\appdata\\local\\programs\\python\\python311\\lib\\site-packages (from pandas>=1.1.5->scikit-lego) (2023.3)\n",
            "Requirement already satisfied: scipy>=1.5.0 in c:\\users\\isaac\\appdata\\local\\programs\\python\\python311\\lib\\site-packages (from scikit-learn>=1.0->scikit-lego) (1.11.3)\n",
            "Requirement already satisfied: joblib>=1.1.1 in c:\\users\\isaac\\appdata\\local\\programs\\python\\python311\\lib\\site-packages (from scikit-learn>=1.0->scikit-lego) (1.3.2)\n",
            "Requirement already satisfied: threadpoolctl>=2.0.0 in c:\\users\\isaac\\appdata\\local\\programs\\python\\python311\\lib\\site-packages (from scikit-learn>=1.0->scikit-lego) (3.2.0)\n",
            "Requirement already satisfied: six>=1.5 in c:\\users\\isaac\\appdata\\roaming\\python\\python311\\site-packages (from python-dateutil>=2.8.2->pandas>=1.1.5->scikit-lego) (1.16.0)\n",
            "Note: you may need to restart the kernel to use updated packages.\n"
          ]
        },
        {
          "name": "stderr",
          "output_type": "stream",
          "text": [
            "\n",
            "[notice] A new release of pip available: 22.3 -> 24.2\n",
            "[notice] To update, run: python.exe -m pip install --upgrade pip\n"
          ]
        },
        {
          "name": "stdout",
          "output_type": "stream",
          "text": [
            "Requirement already satisfied: seaborn in c:\\users\\isaac\\appdata\\local\\programs\\python\\python311\\lib\\site-packages (0.13.2)Note: you may need to restart the kernel to use updated packages.\n",
            "\n",
            "Requirement already satisfied: numpy!=1.24.0,>=1.20 in c:\\users\\isaac\\appdata\\local\\programs\\python\\python311\\lib\\site-packages (from seaborn) (1.26.1)\n",
            "Requirement already satisfied: pandas>=1.2 in c:\\users\\isaac\\appdata\\local\\programs\\python\\python311\\lib\\site-packages (from seaborn) (2.1.2)\n",
            "Requirement already satisfied: matplotlib!=3.6.1,>=3.4 in c:\\users\\isaac\\appdata\\local\\programs\\python\\python311\\lib\\site-packages (from seaborn) (3.8.0)\n",
            "Requirement already satisfied: contourpy>=1.0.1 in c:\\users\\isaac\\appdata\\local\\programs\\python\\python311\\lib\\site-packages (from matplotlib!=3.6.1,>=3.4->seaborn) (1.1.1)\n",
            "Requirement already satisfied: cycler>=0.10 in c:\\users\\isaac\\appdata\\local\\programs\\python\\python311\\lib\\site-packages (from matplotlib!=3.6.1,>=3.4->seaborn) (0.12.1)\n",
            "Requirement already satisfied: fonttools>=4.22.0 in c:\\users\\isaac\\appdata\\local\\programs\\python\\python311\\lib\\site-packages (from matplotlib!=3.6.1,>=3.4->seaborn) (4.43.1)\n",
            "Requirement already satisfied: kiwisolver>=1.0.1 in c:\\users\\isaac\\appdata\\local\\programs\\python\\python311\\lib\\site-packages (from matplotlib!=3.6.1,>=3.4->seaborn) (1.4.5)\n",
            "Requirement already satisfied: packaging>=20.0 in c:\\users\\isaac\\appdata\\roaming\\python\\python311\\site-packages (from matplotlib!=3.6.1,>=3.4->seaborn) (23.2)\n",
            "Requirement already satisfied: pillow>=6.2.0 in c:\\users\\isaac\\appdata\\local\\programs\\python\\python311\\lib\\site-packages (from matplotlib!=3.6.1,>=3.4->seaborn) (10.1.0)\n",
            "Requirement already satisfied: pyparsing>=2.3.1 in c:\\users\\isaac\\appdata\\local\\programs\\python\\python311\\lib\\site-packages (from matplotlib!=3.6.1,>=3.4->seaborn) (3.1.1)\n",
            "Requirement already satisfied: python-dateutil>=2.7 in c:\\users\\isaac\\appdata\\roaming\\python\\python311\\site-packages (from matplotlib!=3.6.1,>=3.4->seaborn) (2.8.2)\n",
            "Requirement already satisfied: pytz>=2020.1 in c:\\users\\isaac\\appdata\\local\\programs\\python\\python311\\lib\\site-packages (from pandas>=1.2->seaborn) (2023.3.post1)\n",
            "Requirement already satisfied: tzdata>=2022.1 in c:\\users\\isaac\\appdata\\local\\programs\\python\\python311\\lib\\site-packages (from pandas>=1.2->seaborn) (2023.3)\n",
            "Requirement already satisfied: six>=1.5 in c:\\users\\isaac\\appdata\\roaming\\python\\python311\\site-packages (from python-dateutil>=2.7->matplotlib!=3.6.1,>=3.4->seaborn) (1.16.0)\n"
          ]
        },
        {
          "name": "stderr",
          "output_type": "stream",
          "text": [
            "\n",
            "[notice] A new release of pip available: 22.3 -> 24.2\n",
            "[notice] To update, run: python.exe -m pip install --upgrade pip\n"
          ]
        },
        {
          "name": "stdout",
          "output_type": "stream",
          "text": [
            "Requirement already satisfied: nbstripout in c:\\users\\isaac\\appdata\\local\\programs\\python\\python311\\lib\\site-packages (0.7.1)\n",
            "Requirement already satisfied: nbformat in c:\\users\\isaac\\appdata\\local\\programs\\python\\python311\\lib\\site-packages (from nbstripout) (5.10.4)\n",
            "Requirement already satisfied: fastjsonschema>=2.15 in c:\\users\\isaac\\appdata\\local\\programs\\python\\python311\\lib\\site-packages (from nbformat->nbstripout) (2.20.0)\n",
            "Requirement already satisfied: jsonschema>=2.6 in c:\\users\\isaac\\appdata\\local\\programs\\python\\python311\\lib\\site-packages (from nbformat->nbstripout) (4.23.0)\n",
            "Requirement already satisfied: jupyter-core!=5.0.*,>=4.12 in c:\\users\\isaac\\appdata\\roaming\\python\\python311\\site-packages (from nbformat->nbstripout) (5.4.0)\n",
            "Requirement already satisfied: traitlets>=5.1 in c:\\users\\isaac\\appdata\\roaming\\python\\python311\\site-packages (from nbformat->nbstripout) (5.11.2)\n",
            "Requirement already satisfied: attrs>=22.2.0 in c:\\users\\isaac\\appdata\\local\\programs\\python\\python311\\lib\\site-packages (from jsonschema>=2.6->nbformat->nbstripout) (24.2.0)\n",
            "Requirement already satisfied: jsonschema-specifications>=2023.03.6 in c:\\users\\isaac\\appdata\\local\\programs\\python\\python311\\lib\\site-packages (from jsonschema>=2.6->nbformat->nbstripout) (2024.10.1)\n",
            "Requirement already satisfied: referencing>=0.28.4 in c:\\users\\isaac\\appdata\\local\\programs\\python\\python311\\lib\\site-packages (from jsonschema>=2.6->nbformat->nbstripout) (0.35.1)\n",
            "Requirement already satisfied: rpds-py>=0.7.1 in c:\\users\\isaac\\appdata\\local\\programs\\python\\python311\\lib\\site-packages (from jsonschema>=2.6->nbformat->nbstripout) (0.20.0)\n",
            "Requirement already satisfied: platformdirs>=2.5 in c:\\users\\isaac\\appdata\\roaming\\python\\python311\\site-packages (from jupyter-core!=5.0.*,>=4.12->nbformat->nbstripout) (3.11.0)\n",
            "Requirement already satisfied: pywin32>=300 in c:\\users\\isaac\\appdata\\roaming\\python\\python311\\site-packages (from jupyter-core!=5.0.*,>=4.12->nbformat->nbstripout) (306)\n",
            "Note: you may need to restart the kernel to use updated packages.\n"
          ]
        },
        {
          "name": "stderr",
          "output_type": "stream",
          "text": [
            "\n",
            "[notice] A new release of pip available: 22.3 -> 24.2\n",
            "[notice] To update, run: python.exe -m pip install --upgrade pip\n",
            "UsageError: Line magic function `%nbstripout` not found.\n"
          ]
        }
      ],
      "source": [
        "%pip install scikit-lego\n",
        "%pip install seaborn\n",
        "%pip install nbstripout\n",
        "%nbstripout --install"
      ]
    },
    {
      "cell_type": "code",
      "execution_count": 15,
      "metadata": {
        "id": "MkCVC2020FB4"
      },
      "outputs": [],
      "source": [
        "import numpy as np\n",
        "import matplotlib.pyplot as plt\n",
        "import pandas as pd\n",
        "import seaborn as sns\n",
        "from sklearn.preprocessing import LabelEncoder, StandardScaler, PolynomialFeatures\n",
        "from sklearn.metrics import roc_curve, auc, roc_auc_score, accuracy_score, precision_recall_curve\n",
        "from sklearn.linear_model import LinearRegression, Ridge\n",
        "from sklearn.model_selection import train_test_split, StratifiedKFold, cross_val_score\n",
        "from sklearn.metrics import mean_squared_error\n",
        "import pandas as pd\n",
        "from sklearn.model_selection import train_test_split\n",
        "from sklearn.linear_model import LogisticRegression\n",
        "from sklearn.metrics import confusion_matrix, accuracy_score\n",
        "\n",
        "\n",
        "df = pd.read_csv(\"./dataset.csv\")\n"
      ]
    },
    {
      "cell_type": "markdown",
      "metadata": {},
      "source": [
        "1. We chose explicit, as it is a binary response variable, and thus is suitable for a classification problem.\n",
        "\n",
        "2. We chose \"Speechiness\" as our predictor because we thought it might indicate whether or not a track was rap, which generally has more explicit lyrics.\n",
        "\n",
        "3. See below."
      ]
    },
    {
      "cell_type": "code",
      "execution_count": 19,
      "metadata": {
        "colab": {
          "base_uri": "https://localhost:8080/"
        },
        "collapsed": true,
        "id": "zVocdikoAasR",
        "outputId": "937ac093-c53f-4f24-9e89-4069f6990e21"
      },
      "outputs": [
        {
          "name": "stdout",
          "output_type": "stream",
          "text": [
            "Confusion Matrix:\n",
            " [[62242   278]\n",
            " [ 5526   354]]\n",
            "Prediction Accuracy: 0.9151461988304094\n",
            "Prediction Error: 0.08485380116959063\n",
            "True Positive Rate (TPR): 0.06020408163265306\n",
            "True Negative Rate (TNR): 0.9955534229046705\n"
          ]
        }
      ],
      "source": [
        "\n",
        "# Step 1: Clean Data\n",
        "# Remove duplicates\n",
        "df_cleaned = df.drop_duplicates()\n",
        "\n",
        "# Keep only 'speechiness' and 'explicit' columns\n",
        "df_filtered = df_cleaned[['speechiness', 'explicit']]\n",
        "\n",
        "# Step 2: Define Predictor and Response\n",
        "X = df_filtered[['speechiness']] # predictor\n",
        "y = df_filtered['explicit']     # binary response\n",
        "\n",
        "# Split data into training and testing sets (optional, here we'll use all data for training)\n",
        "# 60% train, 20% test, 20% validation\n",
        "X_train, X_not_train, y_train, y_not_train = train_test_split(X, y, train_size=0.6, random_state=42)\n",
        "X_test, X_val, y_test, y_val = train_test_split(X, y, train_size=0.5, random_state=42)\n",
        "\n",
        "# Step 3: Train Logistic Regression Model\n",
        "log_reg = LogisticRegression()\n",
        "log_reg.fit(X_train, y_train)\n",
        "\n",
        "# Step 4: Predict and Evaluate\n",
        "y_pred = log_reg.predict(X_train)\n",
        "\n",
        "# Calculate confusion matrix\n",
        "conf_matrix = confusion_matrix(y_train, y_pred)\n",
        "\n",
        "# Calculate evaluation metrics\n",
        "accuracy = accuracy_score(y_train, y_pred)\n",
        "prediction_error = 1 - accuracy\n",
        "TPR = conf_matrix[1, 1] / (conf_matrix[1, 0] + conf_matrix[1, 1])  # True Positive Rate\n",
        "TNR = conf_matrix[0, 0] / (conf_matrix[0, 0] + conf_matrix[0, 1])  # True Negative Rate\n",
        "\n",
        "# Print results\n",
        "print(\"Confusion Matrix:\\n\", conf_matrix)\n",
        "print(\"Prediction Accuracy:\", accuracy)\n",
        "print(\"Prediction Error:\", prediction_error)\n",
        "print(\"True Positive Rate (TPR):\", TPR)\n",
        "print(\"True Negative Rate (TNR):\", TNR)\n"
      ]
    },
    {
      "cell_type": "markdown",
      "metadata": {},
      "source": [
        "#4 See below"
      ]
    },
    {
      "cell_type": "code",
      "execution_count": 20,
      "metadata": {
        "colab": {
          "base_uri": "https://localhost:8080/",
          "height": 942
        },
        "id": "y2OBZ8o0AQ5O",
        "outputId": "d7869c04-90ce-40f9-8633-7de2f8785a1a"
      },
      "outputs": [
        {
          "data": {
            "image/png": "[encoded data removed]",
            "text/plain": [
              "<Figure size 640x480 with 1 Axes>"
            ]
          },
          "metadata": {},
          "output_type": "display_data"
        },
        {
          "name": "stdout",
          "output_type": "stream",
          "text": [
            "5-Fold Cross-Validation AUC scores: [0.76429576 0.76585694 0.776986   0.77223464 0.7624112 ]\n",
            "Mean AUC across folds: 0.7683569080800654\n",
            "5-Fold Cross-Validation Accuracy scores: [0.91710526 0.91587719 0.91754386 0.91675439 0.91754386]\n",
            "Mean Accuracy across folds: 0.9169649122807018\n"
          ]
        }
      ],
      "source": [
        "# Perform 5-fold cross-validation on the validation set for AUC and accuracy\n",
        "cv = StratifiedKFold(n_splits=5)\n",
        "auc_scores = cross_val_score(log_reg, X_val, y_val, cv=cv, scoring='roc_auc')\n",
        "accuracy_scores = cross_val_score(log_reg, X_val, y_val, cv=cv, scoring='accuracy')\n",
        "\n",
        "# Train model on training data for ROC curve\n",
        "log_reg.fit(X_train, y_train)\n",
        "\n",
        "# Predict probabilities on the validation set\n",
        "y_val_probs = log_reg.predict_proba(X_val)[:, 1]\n",
        "\n",
        "# Calculate ROC curve and AUC on the validation set\n",
        "fpr, tpr, thresholds = roc_curve(y_val, y_val_probs)\n",
        "roc_auc = roc_auc_score(y_val, y_val_probs)\n",
        "\n",
        "# Plot ROC curve\n",
        "plt.figure()\n",
        "plt.plot(fpr, tpr, color='blue', label=f'ROC curve (AUC = {roc_auc:.2f})')\n",
        "plt.plot([0, 1], [0, 1], color='gray', linestyle='--')  # Diagonal line for random guessing\n",
        "plt.xlabel('False Positive Rate')\n",
        "plt.ylabel('True Positive Rate')\n",
        "plt.title('ROC Curve')\n",
        "plt.legend(loc=\"lower right\")\n",
        "plt.show()\n",
        "\n",
        "# Print cross-validated AUC and accuracy for each fold\n",
        "print(\"5-Fold Cross-Validation AUC scores:\", auc_scores)\n",
        "print(\"Mean AUC across folds:\", np.mean(auc_scores))\n",
        "print(\"5-Fold Cross-Validation Accuracy scores:\", accuracy_scores)\n",
        "print(\"Mean Accuracy across folds:\", np.mean(accuracy_scores))\n"
      ]
    },
    {
      "cell_type": "markdown",
      "metadata": {},
      "source": [
        "#5\n",
        "In #4 we used 0.5 as the threshold since its a common sense hyperparameter value in this case. We also investigated the optimal threshold to maximize F1 score, which would be ~0.09 due to a class imbalance (far more non-explicit songs). To mitigate this, we could weight the classes appropriately."
      ]
    },
    {
      "cell_type": "code",
      "execution_count": 23,
      "metadata": {},
      "outputs": [
        {
          "name": "stdout",
          "output_type": "stream",
          "text": [
            "Optimal Threshold (F1): 0.09470080813155504\n",
            "F1 Score at Optimal Threshold: 0.32803970223325063\n",
            "Accuracy at Optimal Threshold: 0.8416374269005849\n"
          ]
        }
      ],
      "source": [
        "# Precision-recall curve gives thresholds, precision, and recall\n",
        "y_prob = log_reg.predict_proba(X_train)[:, 1]\n",
        "precisions, recalls, thresholds_pr = precision_recall_curve(y_train, y_prob)\n",
        "\n",
        "# Calculate F1 score for each threshold\n",
        "f1_scores = 2 * (precisions * recalls) / (precisions + recalls)\n",
        "\n",
        "# Find the threshold that maximizes the F1 score\n",
        "optimal_idx = np.argmax(f1_scores)\n",
        "optimal_threshold = thresholds_pr[optimal_idx]\n",
        "\n",
        "# Step 4: Use optimal threshold for predictions\n",
        "y_pred_optimal = (y_prob >= optimal_threshold).astype(int)\n",
        "\n",
        "# Print the results\n",
        "print(\"Optimal Threshold (F1):\", optimal_threshold)\n",
        "print(\"F1 Score at Optimal Threshold:\", f1_scores[optimal_idx])\n",
        "print(\"Accuracy at Optimal Threshold:\", accuracy_score(y_train, y_pred_optimal))"
      ]
    },
    {
      "cell_type": "markdown",
      "metadata": {},
      "source": []
    }
  ],
  "metadata": {
    "colab": {
      "provenance": []
    },
    "kernelspec": {
      "display_name": "Python 3",
      "name": "python3"
    },
    "language_info": {
      "codemirror_mode": {
        "name": "ipython",
        "version": 3
      },
      "file_extension": ".py",
      "mimetype": "text/x-python",
      "name": "python",
      "nbconvert_exporter": "python",
      "pygments_lexer": "ipython3",
      "version": "3.11.0"
    }
  },
  "nbformat": 4,
  "nbformat_minor": 0
}
